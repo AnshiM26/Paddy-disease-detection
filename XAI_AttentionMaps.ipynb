{
  "cells": [
    {
      "cell_type": "code",
      "execution_count": null,
      "id": "a5c84123-601a-444c-8eed-712a0cad379d",
      "metadata": {
        "id": "a5c84123-601a-444c-8eed-712a0cad379d",
        "outputId": "3fcc3de4-67f1-4095-8697-4a6bf7f451b7"
      },
      "outputs": [
        {
          "name": "stderr",
          "output_type": "stream",
          "text": [
            "C:\\Users\\USER\\miniconda3\\envs\\paddy-viton\\lib\\site-packages\\tqdm\\auto.py:21: TqdmWarning: IProgress not found. Please update jupyter and ipywidgets. See https://ipywidgets.readthedocs.io/en/stable/user_install.html\n",
            "  from .autonotebook import tqdm as notebook_tqdm\n"
          ]
        }
      ],
      "source": [
        "import torch\n",
        "import torch.nn.functional as F\n",
        "import numpy as np\n",
        "import matplotlib.pyplot as plt\n",
        "from torchvision import transforms\n",
        "from torchvision.datasets import ImageFolder\n",
        "from torch.utils.data import Subset\n",
        "from PIL import Image\n",
        "import cv2\n",
        "import os\n",
        "import timm\n",
        "model_path = \"best_vit_dino.pth\"\n",
        "indices_path = \"test_indices.pth\"\n",
        "data_dir = \"paddy-disease-classification\"\n",
        "output_dir = \"dino_attention_outputs\"\n",
        "img_size = 224\n",
        "device = torch.device(\"cuda\" if torch.cuda.is_available() else \"cpu\")\n",
        "os.makedirs(output_dir, exist_ok=True)\n",
        "transform = transforms.Compose([\n",
        "    transforms.Resize((img_size, img_size)),\n",
        "    transforms.ToTensor(),\n",
        "    transforms.Normalize([0.5]*3, [0.5]*3),\n",
        "])\n"
      ]
    },
    {
      "cell_type": "code",
      "execution_count": null,
      "id": "83b6725c-d374-4c81-ac72-b7fc154a11c8",
      "metadata": {
        "id": "83b6725c-d374-4c81-ac72-b7fc154a11c8",
        "outputId": "f3f80fee-0a44-4066-ac41-cd7636196f52"
      },
      "outputs": [
        {
          "name": "stderr",
          "output_type": "stream",
          "text": [
            "C:\\Users\\USER\\AppData\\Local\\Temp\\ipykernel_16556\\713725112.py:3: FutureWarning: You are using `torch.load` with `weights_only=False` (the current default value), which uses the default pickle module implicitly. It is possible to construct malicious pickle data which will execute arbitrary code during unpickling (See https://github.com/pytorch/pytorch/blob/main/SECURITY.md#untrusted-models for more details). In a future release, the default value for `weights_only` will be flipped to `True`. This limits the functions that could be executed during unpickling. Arbitrary objects will no longer be allowed to be loaded via this mode unless they are explicitly allowlisted by the user via `torch.serialization.add_safe_globals`. We recommend you start setting `weights_only=True` for any use case where you don't have full control of the loaded file. Please open an issue on GitHub for any issues related to this experimental feature.\n",
            "  test_indices = torch.load(indices_path)\n"
          ]
        },
        {
          "name": "stdout",
          "output_type": "stream",
          "text": [
            "Images used in attention visualization:\n",
            "\n",
            "bacterial_leaf_blight     --> paddy-disease-classification\\bacterial_leaf_blight\\PDD00536.jpg\n",
            "normal                    --> paddy-disease-classification\\normal\\PDD10618.jpg\n",
            "blast                     --> paddy-disease-classification\\blast\\PDD03633.jpg\n",
            "black_stem_borer          --> paddy-disease-classification\\black_stem_borer\\PDD02034.jpg\n",
            "leaf_roller               --> paddy-disease-classification\\leaf_roller\\PDD08975.jpg\n",
            "bacterial_panicle_blight  --> paddy-disease-classification\\bacterial_panicle_blight\\PDD01329.jpg\n",
            "tungro                    --> paddy-disease-classification\\tungro\\PDD13085.jpg\n",
            "white_stem_borer          --> paddy-disease-classification\\white_stem_borer\\PDD14197.jpg\n",
            "downy_mildew              --> paddy-disease-classification\\downy_mildew\\PDD05775.jpg\n",
            "hispa                     --> paddy-disease-classification\\hispa\\PDD07407.jpg\n",
            "yellow_stem_borer         --> paddy-disease-classification\\yellow_stem_borer\\PDD15703.jpg\n",
            "brown_spot                --> paddy-disease-classification\\brown_spot\\PDD04485.jpg\n",
            "bacterial_leaf_streak     --> paddy-disease-classification\\bacterial_leaf_streak\\PDD00858.jpg\n"
          ]
        },
        {
          "name": "stderr",
          "output_type": "stream",
          "text": [
            "C:\\Users\\USER\\AppData\\Local\\Temp\\ipykernel_16556\\713725112.py:12: FutureWarning: You are using `torch.load` with `weights_only=False` (the current default value), which uses the default pickle module implicitly. It is possible to construct malicious pickle data which will execute arbitrary code during unpickling (See https://github.com/pytorch/pytorch/blob/main/SECURITY.md#untrusted-models for more details). In a future release, the default value for `weights_only` will be flipped to `True`. This limits the functions that could be executed during unpickling. Arbitrary objects will no longer be allowed to be loaded via this mode unless they are explicitly allowlisted by the user via `torch.serialization.add_safe_globals`. We recommend you start setting `weights_only=True` for any use case where you don't have full control of the loaded file. Please open an issue on GitHub for any issues related to this experimental feature.\n",
            "  test_indices = torch.load(\"test_indices.pth\")\n"
          ]
        }
      ],
      "source": [
        "full_dataset = ImageFolder(data_dir, transform=transform)\n",
        "class_names = full_dataset.classes\n",
        "test_indices = torch.load(indices_path)\n",
        "test_dataset = Subset(full_dataset, test_indices)\n",
        "chosen_indices = {}\n",
        "for i in range(len(test_dataset)):\n",
        "    _, label = test_dataset[i]\n",
        "    if label not in chosen_indices:\n",
        "        chosen_indices[label] = i\n",
        "    if len(chosen_indices) == len(class_names):\n",
        "        break\n",
        "test_indices = torch.load(\"test_indices.pth\")\n",
        "print(\"Images used in attention visualization:\\n\")\n",
        "for class_idx, dataset_idx in chosen_indices.items():\n",
        "    original_index = test_indices[dataset_idx]  # map back to original dataset\n",
        "    image_path, _ = full_dataset.samples[original_index]\n",
        "    class_name = class_names[class_idx]\n",
        "    print(f\"{class_name:25s} --> {image_path}\")\n"
      ]
    },
    {
      "cell_type": "code",
      "execution_count": null,
      "id": "12ff1b91-da48-4afe-9ea5-c2b6c2761c9e",
      "metadata": {
        "id": "12ff1b91-da48-4afe-9ea5-c2b6c2761c9e",
        "outputId": "b027a173-7f46-447f-a769-2bac58db6779"
      },
      "outputs": [
        {
          "name": "stderr",
          "output_type": "stream",
          "text": [
            "C:\\Users\\USER\\AppData\\Local\\Temp\\ipykernel_16556\\1952015521.py:3: FutureWarning: You are using `torch.load` with `weights_only=False` (the current default value), which uses the default pickle module implicitly. It is possible to construct malicious pickle data which will execute arbitrary code during unpickling (See https://github.com/pytorch/pytorch/blob/main/SECURITY.md#untrusted-models for more details). In a future release, the default value for `weights_only` will be flipped to `True`. This limits the functions that could be executed during unpickling. Arbitrary objects will no longer be allowed to be loaded via this mode unless they are explicitly allowlisted by the user via `torch.serialization.add_safe_globals`. We recommend you start setting `weights_only=True` for any use case where you don't have full control of the loaded file. Please open an issue on GitHub for any issues related to this experimental feature.\n",
            "  model.load_state_dict(torch.load(model_path, map_location=device),strict=False)\n"
          ]
        }
      ],
      "source": [
        "model = timm.create_model('vit_base_patch16_224.dino', pretrained=False)\n",
        "model.head = torch.nn.Identity()\n",
        "model.load_state_dict(torch.load(model_path, map_location=device),strict=False)\n",
        "model = model.to(device).eval()"
      ]
    },
    {
      "cell_type": "code",
      "execution_count": null,
      "id": "f81a0620-5fc1-4f42-852b-d285b918cc84",
      "metadata": {
        "id": "f81a0620-5fc1-4f42-852b-d285b918cc84"
      },
      "outputs": [],
      "source": [
        "attention_scores = []\n",
        "def get_qk_hook(module, input, output):\n",
        "    B, N, _ = output.shape  # (B, N, 3*D)\n",
        "    qkv = output.reshape(B, N, 3, -1).permute(2, 0, 1, 3)  # (3, B, N, D)\n",
        "    q, k = qkv[0], qkv[1]  # each (B, N, D)\n",
        "    attn = torch.matmul(q, k.transpose(-2, -1)) / (q.shape[-1] ** 0.5)  # (B, N, N)\n",
        "    attn = F.softmax(attn, dim=-1)\n",
        "    attention_scores.append(attn.detach())\n",
        "hook = model.blocks[-1].attn.qkv.register_forward_hook(get_qk_hook)\n"
      ]
    },
    {
      "cell_type": "code",
      "execution_count": null,
      "id": "42d4b5fe-74c8-4d38-a2d1-82ad0e3ee45d",
      "metadata": {
        "id": "42d4b5fe-74c8-4d38-a2d1-82ad0e3ee45d",
        "outputId": "d8fd149a-4982-4cda-b067-81ac2213d3b2"
      },
      "outputs": [
        {
          "name": "stdout",
          "output_type": "stream",
          "text": [
            "Saved attention maps to: dino_attention_outputs\n"
          ]
        }
      ],
      "source": [
        "for class_idx, dataset_idx in chosen_indices.items():\n",
        "    image_tensor, true_label = test_dataset[dataset_idx]\n",
        "    input_tensor = image_tensor.unsqueeze(0).to(device)\n",
        "    attention_scores.clear()\n",
        "    _ = model(input_tensor)\n",
        "    attn = attention_scores[0][0]  # (N, N)\n",
        "    cls_attn = attn[0, 1:]  # CLS → patches\n",
        "    cls_attn = cls_attn.reshape(14, 14).cpu().numpy()\n",
        "    cls_attn = cv2.resize(cls_attn, (img_size, img_size))\n",
        "    cls_attn = (cls_attn - cls_attn.min()) / (cls_attn.max() - cls_attn.min())\n",
        "    rgb_img = image_tensor.permute(1, 2, 0).cpu().numpy()\n",
        "    rgb_img = ((rgb_img * 0.5) + 0.5) * 255\n",
        "    rgb_img = np.uint8(np.clip(rgb_img, 0, 255))\n",
        "    heatmap = cv2.applyColorMap(np.uint8(255 * cls_attn), cv2.COLORMAP_JET)\n",
        "    overlay = cv2.addWeighted(heatmap, 0.5, rgb_img, 0.5, 0)\n",
        "    filename = f\"{output_dir}/{class_names[true_label]}_attn.png\"\n",
        "    Image.fromarray(overlay).save(filename)\n",
        "hook.remove()\n",
        "print(f\"Saved attention maps to: {output_dir}\")"
      ]
    },
    {
      "cell_type": "code",
      "execution_count": null,
      "id": "eaee09bb-7d03-403a-8b32-24c65e62197e",
      "metadata": {
        "id": "eaee09bb-7d03-403a-8b32-24c65e62197e"
      },
      "outputs": [],
      "source": []
    }
  ],
  "metadata": {
    "kernelspec": {
      "display_name": "Python 3 (ipykernel)",
      "language": "python",
      "name": "python3"
    },
    "language_info": {
      "codemirror_mode": {
        "name": "ipython",
        "version": 3
      },
      "file_extension": ".py",
      "mimetype": "text/x-python",
      "name": "python",
      "nbconvert_exporter": "python",
      "pygments_lexer": "ipython3",
      "version": "3.10.18"
    },
    "colab": {
      "provenance": []
    }
  },
  "nbformat": 4,
  "nbformat_minor": 5
}